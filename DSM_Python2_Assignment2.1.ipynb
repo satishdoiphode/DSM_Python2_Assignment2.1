{
 "cells": [
  {
   "cell_type": "code",
   "execution_count": 3,
   "metadata": {},
   "outputs": [
    {
     "name": "stdout",
     "output_type": "stream",
     "text": [
      "Enter Values Using Comma separated numbers ',':4,5,6,7,8,9\n",
      "List is : ['4', '5', '6', '7', '8', '9']\n"
     ]
    }
   ],
   "source": [
    "values=input(\"Enter Values Using Comma separated numbers ',':\")\n",
    "list=values.split(\",\") # for constructing list from sequence\n",
    "print (\"List is :\",list)\n"
   ]
  }
 ],
 "metadata": {
  "kernelspec": {
   "display_name": "Python 3",
   "language": "python",
   "name": "python3"
  },
  "language_info": {
   "codemirror_mode": {
    "name": "ipython",
    "version": 3
   },
   "file_extension": ".py",
   "mimetype": "text/x-python",
   "name": "python",
   "nbconvert_exporter": "python",
   "pygments_lexer": "ipython3",
   "version": "3.6.4"
  }
 },
 "nbformat": 4,
 "nbformat_minor": 2
}
